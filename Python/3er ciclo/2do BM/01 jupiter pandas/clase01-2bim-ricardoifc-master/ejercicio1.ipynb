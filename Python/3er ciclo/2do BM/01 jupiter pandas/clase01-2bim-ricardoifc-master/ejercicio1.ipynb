{
 "cells": [
  {
   "cell_type": "code",
   "execution_count": 1,
   "metadata": {},
   "outputs": [],
   "source": [
    "import pandas as pd"
   ]
  },
  {
   "cell_type": "code",
   "execution_count": 2,
   "metadata": {},
   "outputs": [
    {
     "name": "stdout",
     "output_type": "stream",
     "text": [
      " El volumen de la unidad C no tiene etiqueta.\n",
      " El n£mero de serie del volumen es: 7C14-DB70\n",
      "\n",
      " Directorio de C:\\Users\\UTPL\\Documents\\clase01-2bim-ricardoifc\n",
      "\n",
      "03/12/2019  10:09    <DIR>          .\n",
      "03/12/2019  10:09    <DIR>          ..\n",
      "03/12/2019  10:09    <DIR>          .ipynb_checkpoints\n",
      "03/12/2019  10:08    <DIR>          data\n",
      "03/12/2019  10:08             5.232 Ejemplo1.ipynb\n",
      "03/12/2019  10:09                72 ejercicio1.ipynb\n",
      "03/12/2019  09:57                16 README.md\n",
      "               3 archivos          5.320 bytes\n",
      "               4 dirs  327.222.476.800 bytes libres\n"
     ]
    }
   ],
   "source": [
    "ls"
   ]
  },
  {
   "cell_type": "code",
   "execution_count": 4,
   "metadata": {},
   "outputs": [],
   "source": [
    "data = pd.read_csv('data/data2.csv', sep=\",\")"
   ]
  },
  {
   "cell_type": "code",
   "execution_count": 7,
   "metadata": {},
   "outputs": [
    {
     "data": {
      "text/plain": [
       "0      2440\n",
       "1      3600\n",
       "2      2800\n",
       "3      2900\n",
       "4      2820\n",
       "       ... \n",
       "144    3000\n",
       "145    2860\n",
       "146    3200\n",
       "147    2770\n",
       "148    3000\n",
       "Name: peso, Length: 149, dtype: int64"
      ]
     },
     "execution_count": 7,
     "metadata": {},
     "output_type": "execute_result"
    }
   ],
   "source": [
    "data ['peso']"
   ]
  },
  {
   "cell_type": "code",
   "execution_count": 9,
   "metadata": {},
   "outputs": [
    {
     "data": {
      "text/plain": [
       "Index(['peso', 'tipo_part', 'anio_0c', 'mes_0c', 'dia_0c', 'lugar_ocur',\n",
       "       'cant_0c', 'edad_mad'],\n",
       "      dtype='object')"
      ]
     },
     "execution_count": 9,
     "metadata": {},
     "output_type": "execute_result"
    }
   ],
   "source": [
    "data.keys()"
   ]
  },
  {
   "cell_type": "code",
   "execution_count": 11,
   "metadata": {},
   "outputs": [
    {
     "data": {
      "text/html": [
       "<div>\n",
       "<style scoped>\n",
       "    .dataframe tbody tr th:only-of-type {\n",
       "        vertical-align: middle;\n",
       "    }\n",
       "\n",
       "    .dataframe tbody tr th {\n",
       "        vertical-align: top;\n",
       "    }\n",
       "\n",
       "    .dataframe thead th {\n",
       "        text-align: right;\n",
       "    }\n",
       "</style>\n",
       "<table border=\"1\" class=\"dataframe\">\n",
       "  <thead>\n",
       "    <tr style=\"text-align: right;\">\n",
       "      <th></th>\n",
       "      <th>mes_0c</th>\n",
       "      <th>peso</th>\n",
       "    </tr>\n",
       "  </thead>\n",
       "  <tbody>\n",
       "    <tr>\n",
       "      <th>0</th>\n",
       "      <td>Junio</td>\n",
       "      <td>2440</td>\n",
       "    </tr>\n",
       "    <tr>\n",
       "      <th>1</th>\n",
       "      <td>Julio</td>\n",
       "      <td>3600</td>\n",
       "    </tr>\n",
       "    <tr>\n",
       "      <th>2</th>\n",
       "      <td>Julio</td>\n",
       "      <td>2800</td>\n",
       "    </tr>\n",
       "    <tr>\n",
       "      <th>3</th>\n",
       "      <td>Julio</td>\n",
       "      <td>2900</td>\n",
       "    </tr>\n",
       "    <tr>\n",
       "      <th>4</th>\n",
       "      <td>Julio</td>\n",
       "      <td>2820</td>\n",
       "    </tr>\n",
       "    <tr>\n",
       "      <th>...</th>\n",
       "      <td>...</td>\n",
       "      <td>...</td>\n",
       "    </tr>\n",
       "    <tr>\n",
       "      <th>144</th>\n",
       "      <td>Marzo</td>\n",
       "      <td>3000</td>\n",
       "    </tr>\n",
       "    <tr>\n",
       "      <th>145</th>\n",
       "      <td>Agosto</td>\n",
       "      <td>2860</td>\n",
       "    </tr>\n",
       "    <tr>\n",
       "      <th>146</th>\n",
       "      <td>Junio</td>\n",
       "      <td>3200</td>\n",
       "    </tr>\n",
       "    <tr>\n",
       "      <th>147</th>\n",
       "      <td>Septiembre</td>\n",
       "      <td>2770</td>\n",
       "    </tr>\n",
       "    <tr>\n",
       "      <th>148</th>\n",
       "      <td>Julio</td>\n",
       "      <td>3000</td>\n",
       "    </tr>\n",
       "  </tbody>\n",
       "</table>\n",
       "<p>149 rows × 2 columns</p>\n",
       "</div>"
      ],
      "text/plain": [
       "         mes_0c  peso\n",
       "0         Junio  2440\n",
       "1         Julio  3600\n",
       "2         Julio  2800\n",
       "3         Julio  2900\n",
       "4         Julio  2820\n",
       "..          ...   ...\n",
       "144       Marzo  3000\n",
       "145      Agosto  2860\n",
       "146       Junio  3200\n",
       "147  Septiembre  2770\n",
       "148       Julio  3000\n",
       "\n",
       "[149 rows x 2 columns]"
      ]
     },
     "execution_count": 11,
     "metadata": {},
     "output_type": "execute_result"
    }
   ],
   "source": [
    "data[['mes_0c', 'peso']]"
   ]
  },
  {
   "cell_type": "code",
   "execution_count": 12,
   "metadata": {},
   "outputs": [
    {
     "data": {
      "text/plain": [
       "0           Junio\n",
       "1           Julio\n",
       "2           Julio\n",
       "3           Julio\n",
       "4           Julio\n",
       "          ...    \n",
       "144         Marzo\n",
       "145        Agosto\n",
       "146         Junio\n",
       "147    Septiembre\n",
       "148         Julio\n",
       "Name: mes_0c, Length: 149, dtype: object"
      ]
     },
     "execution_count": 12,
     "metadata": {},
     "output_type": "execute_result"
    }
   ],
   "source": [
    "data['mes_0c']"
   ]
  },
  {
   "cell_type": "code",
   "execution_count": 13,
   "metadata": {},
   "outputs": [
    {
     "data": {
      "text/plain": [
       "array(['Junio', 'Julio', 'Diciembre', 'Enero', 'Mayo', 'Marzo', 'Agosto',\n",
       "       'Septiembre', 'Octubre', 'Abril', 'Noviembre', 'Febrero'],\n",
       "      dtype=object)"
      ]
     },
     "execution_count": 13,
     "metadata": {},
     "output_type": "execute_result"
    }
   ],
   "source": [
    "data['mes_0c'].unique()"
   ]
  },
  {
   "cell_type": "code",
   "execution_count": 18,
   "metadata": {},
   "outputs": [],
   "source": [
    "meses = list(data['mes_0c'].unique())"
   ]
  },
  {
   "cell_type": "code",
   "execution_count": 19,
   "metadata": {},
   "outputs": [
    {
     "data": {
      "text/plain": [
       "list"
      ]
     },
     "execution_count": 19,
     "metadata": {},
     "output_type": "execute_result"
    }
   ],
   "source": [
    "meses.__class__"
   ]
  },
  {
   "cell_type": "code",
   "execution_count": 20,
   "metadata": {},
   "outputs": [
    {
     "data": {
      "text/plain": [
       "array([17,  1, 15,  3, 10, 24, 20, 13,  7,  4, 19,  9, 27, 26, 23, 18, 12,\n",
       "        2, 25,  8, 29, 30, 28, 21,  6, 16, 22,  5, 11], dtype=int64)"
      ]
     },
     "execution_count": 20,
     "metadata": {},
     "output_type": "execute_result"
    }
   ],
   "source": [
    "data['dia_0c'].unique()"
   ]
  },
  {
   "cell_type": "code",
   "execution_count": 24,
   "metadata": {},
   "outputs": [
    {
     "name": "stdout",
     "output_type": "stream",
     "text": [
      "[17, 1, 15, 3, 10, 24, 20, 13, 7, 4, 19, 9, 27, 26, 23, 18, 12, 2, 25, 8, 29, 30, 28, 21, 6, 16, 22, 5, 11]\n"
     ]
    }
   ],
   "source": [
    "dias =list(data['dia_0c'].unique())\n",
    "print(dias)"
   ]
  },
  {
   "cell_type": "code",
   "execution_count": 22,
   "metadata": {},
   "outputs": [
    {
     "data": {
      "text/plain": [
       "list"
      ]
     },
     "execution_count": 22,
     "metadata": {},
     "output_type": "execute_result"
    }
   ],
   "source": [
    "dias.__class__"
   ]
  },
  {
   "cell_type": "code",
   "execution_count": 33,
   "metadata": {},
   "outputs": [
    {
     "name": "stdout",
     "output_type": "stream",
     "text": [
      "['Junio', 'Julio', 'Julio', 'Julio', 'Julio', 'Julio', 'Diciembre', 'Junio', 'Junio', 'Enero', 'Junio', 'Junio', 'Junio', 'Junio', 'Junio', 'Mayo', 'Junio', 'Junio', 'Julio', 'Marzo', 'Mayo', 'Agosto', 'Septiembre', 'Julio', 'Junio', 'Junio', 'Mayo', 'Julio', 'Agosto', 'Agosto', 'Julio', 'Julio', 'Julio', 'Septiembre', 'Septiembre', 'Octubre', 'Julio', 'Junio', 'Julio', 'Junio', 'Mayo', 'Julio', 'Junio', 'Julio', 'Agosto', 'Diciembre', 'Diciembre', 'Agosto', 'Abril', 'Junio', 'Julio', 'Enero', 'Junio', 'Junio', 'Marzo', 'Junio', 'Septiembre', 'Diciembre', 'Abril', 'Octubre', 'Junio', 'Septiembre', 'Mayo', 'Junio', 'Agosto', 'Enero', 'Noviembre', 'Junio', 'Julio', 'Septiembre', 'Julio', 'Mayo', 'Julio', 'Junio', 'Julio', 'Julio', 'Junio', 'Agosto', 'Julio', 'Junio', 'Enero', 'Julio', 'Agosto', 'Julio', 'Julio', 'Julio', 'Julio', 'Agosto', 'Abril', 'Septiembre', 'Abril', 'Julio', 'Agosto', 'Julio', 'Junio', 'Agosto', 'Agosto', 'Abril', 'Junio', 'Febrero', 'Julio', 'Junio', 'Junio', 'Julio', 'Abril', 'Julio', 'Julio', 'Julio', 'Mayo', 'Agosto', 'Agosto', 'Julio', 'Junio', 'Julio', 'Julio', 'Junio', 'Agosto', 'Junio', 'Julio', 'Agosto', 'Julio', 'Agosto', 'Julio', 'Noviembre', 'Junio', 'Junio', 'Mayo', 'Julio', 'Septiembre', 'Junio', 'Abril', 'Octubre', 'Agosto', 'Julio', 'Agosto', 'Julio', 'Mayo', 'Agosto', 'Julio', 'Agosto', 'Mayo', 'Julio', 'Julio', 'Agosto', 'Marzo', 'Agosto', 'Junio', 'Septiembre', 'Julio']\n",
      "[17, 1, 15, 3, 10, 24, 20, 13, 7, 3, 4, 19, 7, 9, 27, 26, 23, 18, 12, 2, 10, 25, 8, 7, 1, 29, 24, 8, 15, 1, 4, 30, 7, 10, 28, 17, 7, 23, 2, 30, 9, 8, 9, 17, 10, 17, 15, 28, 21, 10, 8, 6, 1, 2, 15, 26, 9, 12, 15, 10, 16, 2, 24, 13, 9, 4, 21, 23, 2, 4, 8, 15, 8, 22, 5, 26, 29, 8, 3, 16, 21, 29, 20, 7, 11, 7, 10, 19, 30, 8, 19, 6, 21, 8, 30, 20, 20, 8, 22, 21, 5, 6, 27, 1, 3, 5, 6, 7, 6, 12, 4, 7, 24, 6, 7, 18, 26, 12, 7, 27, 4, 7, 23, 27, 2, 29, 30, 17, 16, 20, 22, 9, 23, 8, 16, 1, 20, 6, 16, 7, 15, 5, 5, 2, 27, 24, 30, 9, 2]\n",
      "[2440, 3600, 2800, 2900, 2820, 3100, 3000, 2900, 0, 3600, 0, 2700, 3100, 3100, 2700, 3000, 3300, 3000, 0, 2900, 3400, 3200, 3350, 1420, 3400, 3250, 0, 2800, 3540, 3120, 3000, 2800, 2710, 3000, 0, 0, 3400, 3200, 99, 2840, 3300, 2870, 2950, 2810, 3170, 0, 0, 3500, 3000, 3160, 1260, 3000, 2930, 3200, 2715, 3580, 2800, 2770, 3500, 2400, 4800, 0, 0, 3000, 3500, 0, 0, 2500, 3160, 2700, 3290, 3500, 2200, 3620, 1850, 3760, 3000, 3130, 1830, 2700, 0, 2950, 3800, 1350, 2500, 940, 3250, 2540, 2850, 3000, 3600, 2000, 2790, 1800, 3400, 3060, 0, 0, 2940, 99, 3730, 3100, 3660, 2700, 3380, 3650, 1110, 1700, 3500, 3300, 3200, 2850, 3000, 2760, 1330, 3181, 2900, 2700, 2940, 3100, 2700, 3135, 0, 0, 3400, 3050, 3320, 3730, 3200, 3181, 3750, 3600, 3990, 3017, 3300, 3220, 3200, 3400, 3099, 3850, 2800, 1470, 2090, 3340, 3000, 2860, 3200, 2770, 3000]\n"
     ]
    }
   ],
   "source": [
    "meses = list(data['mes_0c'])\n",
    "print(meses)\n",
    "dias =list(data['dia_0c'])\n",
    "print(dias)\n",
    "peso =list(data['peso'])\n",
    "print(peso)"
   ]
  },
  {
   "cell_type": "code",
   "execution_count": null,
   "metadata": {},
   "outputs": [],
   "source": []
  },
  {
   "cell_type": "code",
   "execution_count": 60,
   "metadata": {},
   "outputs": [
    {
     "name": "stdout",
     "output_type": "stream",
     "text": [
      "[('Julio', 1, 2700), ('Junio', 1, 2930), ('Agosto', 1, 3120), ('Julio', 1, 3220), ('Junio', 1, 3400), ('Julio', 1, 3600), ('Septiembre', 2, 0), ('Julio', 2, 99), ('Marzo', 2, 2900), ('Julio', 2, 3000), ('Julio', 2, 3160), ('Junio', 2, 3200), ('Agosto', 2, 3340), ('Junio', 2, 3400), ('Julio', 3, 1830), ('Julio', 3, 2900), ('Abril', 3, 3380), ('Enero', 3, 3600), ('Junio', 4, 0), ('Enero', 4, 0), ('Septiembre', 4, 2700), ('Julio', 4, 2700), ('Julio', 4, 3000), ('Agosto', 4, 3200), ('Julio', 5, 1470), ('Julio', 5, 1850), ('Julio', 5, 2090), ('Julio', 5, 3650), ('Julio', 5, 3730), ('Julio', 6, 1110), ('Julio', 6, 2000), ('Julio', 6, 2760), ('Enero', 6, 3000), ('Junio', 6, 3100), ('Agosto', 6, 3400), ('Mayo', 6, 3500), ('Junio', 7, 0), ('Julio', 7, 940), ('Julio', 7, 1330), ('Julio', 7, 1350), ('Julio', 7, 1420), ('Julio', 7, 1700), ('Julio', 7, 2710), ('Julio', 7, 2850), ('Julio', 7, 2940), ('Junio', 7, 3100), ('Agosto', 7, 3135), ('Julio', 7, 3400), ('Agosto', 7, 3850), ('Abril', 8, 0), ('Julio', 8, 1260), ('Julio', 8, 1800), ('Julio', 8, 2200), ('Julio', 8, 2800), ('Julio', 8, 2870), ('Septiembre', 8, 3000), ('Julio', 8, 3017), ('Agosto', 8, 3130), ('Julio', 8, 3290), ('Septiembre', 8, 3350), ('Septiembre', 9, 2770), ('Septiembre', 9, 2800), ('Junio', 9, 2950), ('Junio', 9, 3100), ('Mayo', 9, 3300), ('Agosto', 9, 3500), ('Octubre', 9, 3600), ('Octubre', 10, 2400), ('Julio', 10, 2820), ('Septiembre', 10, 3000), ('Junio', 10, 3160), ('Agosto', 10, 3170), ('Julio', 10, 3250), ('Mayo', 10, 3400), ('Julio', 11, 2500), ('Julio', 12, 0), ('Junio', 12, 2700), ('Diciembre', 12, 2770), ('Agosto', 12, 3300), ('Junio', 13, 2900), ('Junio', 13, 3000), ('Diciembre', 15, 0), ('Marzo', 15, 2715), ('Julio', 15, 2800), ('Mayo', 15, 2800), ('Abril', 15, 3500), ('Mayo', 15, 3500), ('Agosto', 15, 3540), ('Junio', 16, 2700), ('Julio', 16, 3099), ('Septiembre', 16, 3200), ('Agosto', 16, 3300), ('Junio', 16, 4800), ('Octubre', 17, 0), ('Diciembre', 17, 0), ('Junio', 17, 2440), ('Julio', 17, 2810), ('Julio', 17, 3730), ('Junio', 18, 3000), ('Junio', 18, 3181), ('Agosto', 19, 2540), ('Junio', 19, 2700), ('Abril', 19, 3600), ('Agosto', 20, 0), ('Diciembre', 20, 3000), ('Agosto', 20, 3060), ('Junio', 20, 3181), ('Mayo', 20, 3200), ('Agosto', 20, 3800), ('Noviembre', 21, 0), ('Enero', 21, 0), ('Febrero', 21, 99), ('Agosto', 21, 2790), ('Abril', 21, 3000), ('Junio', 22, 2940), ('Junio', 22, 3620), ('Abril', 22, 3750), ('Julio', 23, 0), ('Junio', 23, 2500), ('Junio', 23, 3200), ('Junio', 23, 3300), ('Agosto', 23, 3990), ('Mayo', 24, 0), ('Mayo', 24, 0), ('Agosto', 24, 2860), ('Junio', 24, 3000), ('Julio', 24, 3100), ('Agosto', 25, 3200), ('Agosto', 26, 2900), ('Mayo', 26, 3000), ('Junio', 26, 3580), ('Julio', 26, 3760), ('Noviembre', 27, 0), ('Junio', 27, 2700), ('Marzo', 27, 3000), ('Agosto', 27, 3100), ('Junio', 27, 3660), ('Septiembre', 28, 0), ('Agosto', 28, 3500), ('Julio', 29, 2950), ('Junio', 29, 3000), ('Junio', 29, 3050), ('Junio', 29, 3250), ('Julio', 30, 2800), ('Junio', 30, 2840), ('Abril', 30, 2850), ('Junio', 30, 3200), ('Mayo', 30, 3320), ('Junio', 30, 3400)]\n"
     ]
    }
   ],
   "source": [
    "lista2Ord = list(sorted(list(zip(meses, dias, peso)), key = lambda x: (x[1] ,x[2])))\n",
    "print(listaOrdenada)"
   ]
  },
  {
   "cell_type": "code",
   "execution_count": null,
   "metadata": {},
   "outputs": [],
   "source": []
  },
  {
   "cell_type": "code",
   "execution_count": null,
   "metadata": {},
   "outputs": [],
   "source": []
  }
 ],
 "metadata": {
  "kernelspec": {
   "display_name": "Python 3",
   "language": "python",
   "name": "python3"
  },
  "language_info": {
   "codemirror_mode": {
    "name": "ipython",
    "version": 3
   },
   "file_extension": ".py",
   "mimetype": "text/x-python",
   "name": "python",
   "nbconvert_exporter": "python",
   "pygments_lexer": "ipython3",
   "version": "3.7.4"
  }
 },
 "nbformat": 4,
 "nbformat_minor": 2
}
