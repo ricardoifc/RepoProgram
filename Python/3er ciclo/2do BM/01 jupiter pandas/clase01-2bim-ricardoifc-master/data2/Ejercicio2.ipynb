{
 "cells": [
  {
   "cell_type": "code",
   "execution_count": 6,
   "metadata": {},
   "outputs": [],
   "source": [
    "import pandas as pd"
   ]
  },
  {
   "cell_type": "code",
   "execution_count": 7,
   "metadata": {},
   "outputs": [
    {
     "name": "stdout",
     "output_type": "stream",
     "text": [
      " El volumen de la unidad C no tiene etiqueta.\n",
      " El n£mero de serie del volumen es: 7C14-DB70\n",
      "\n",
      " Directorio de C:\\Users\\UTPL\\Documents\\clase01-2bim-ricardoifc\\data2\n",
      "\n",
      "03/12/2019  11:05    <DIR>          .\n",
      "03/12/2019  11:05    <DIR>          ..\n",
      "03/12/2019  11:03    <DIR>          .ipynb_checkpoints\n",
      "03/12/2019  11:01            11.462 data21.csv\n",
      "03/12/2019  11:01             5.424 data31.csv\n",
      "03/12/2019  11:05             8.793 Ejercicio2.ipynb\n",
      "               3 archivos         25.679 bytes\n",
      "               3 dirs  327.191.691.264 bytes libres\n"
     ]
    }
   ],
   "source": [
    "ls"
   ]
  },
  {
   "cell_type": "code",
   "execution_count": null,
   "metadata": {},
   "outputs": [],
   "source": []
  }
 ],
 "metadata": {
  "kernelspec": {
   "display_name": "Python 3",
   "language": "python",
   "name": "python3"
  },
  "language_info": {
   "codemirror_mode": {
    "name": "ipython",
    "version": 3
   },
   "file_extension": ".py",
   "mimetype": "text/x-python",
   "name": "python",
   "nbconvert_exporter": "python",
   "pygments_lexer": "ipython3",
   "version": "3.7.4"
  }
 },
 "nbformat": 4,
 "nbformat_minor": 2
}
